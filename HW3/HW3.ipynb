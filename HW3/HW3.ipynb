{
 "cells": [
  {
   "cell_type": "markdown",
   "metadata": {},
   "source": [
    "# HW3\n",
    "<br> **1a)** The first algorithm that makes 8 miscategorizations is lesser than the second algorithm that makes 12 miscategorization.\n",
    "<br> Thus NN makes the fewest mistakes.\n",
    "<br> **1b)** The NA algorithm is better for zoo, since it makes lesser type I error (that categorize a bird as human) than NN, and zoo don't worry too much about type II error( that categorize a human as bird)\n",
    "<br> **1c)**"
   ]
  },
  {
   "cell_type": "markdown",
   "metadata": {},
   "source": [
    "||True Bird|True Person|\n",
    "|---|---|---|\n",
    "|NN Bird|93|0|\n",
    "|NN Person|6|1|\n",
    "\n",
    "||True Bird|True Person|\n",
    "|---|---|---|\n",
    "|NA Bird|93|0|\n",
    "|NA Person|6|1|"
   ]
  },
  {
   "attachments": {
    "image.png": {
     "image/png": "[encoded data removed]"
    }
   },
   "cell_type": "markdown",
   "metadata": {},
   "source": [
    "<br> **2a)** \n",
    "$ \\lambda^2z e^{-\\lambda z}$ Where Z=X1+X2\n",
    "<br> **2b)** \n",
    "The ratio of two standard normal distribution follows the standard cauchy distribution\n",
    "<br> X1/X2 ~ Cauchy(0,1), pdf as follow\n",
    "<br> ![image.png](attachment:image.png)"
   ]
  },
  {
   "cell_type": "markdown",
   "metadata": {},
   "source": [
    "<br> **2c)** Two-dimensional Gaussian function pdf is \n",
    "<br> $f(x,y)=exp(-(\\frac{(x-x_0)^2}{2\\sigma ^2_X}+\\frac{(y-y_0)^2}{2\\sigma ^2_Y}))$"
   ]
  }
 ],
 "metadata": {
  "kernelspec": {
   "display_name": "Python 3",
   "language": "python",
   "name": "python3"
  },
  "language_info": {
   "codemirror_mode": {
    "name": "ipython",
    "version": 3
   },
   "file_extension": ".py",
   "mimetype": "text/x-python",
   "name": "python",
   "nbconvert_exporter": "python",
   "pygments_lexer": "ipython3",
   "version": "3.7.4"
  }
 },
 "nbformat": 4,
 "nbformat_minor": 4
}
